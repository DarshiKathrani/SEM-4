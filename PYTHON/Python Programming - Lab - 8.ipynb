{
 "cells": [
  {
   "cell_type": "markdown",
   "metadata": {},
   "source": [
    "<a href='https://www.darshan.ac.in/'> <img src='https://www.darshan.ac.in/Content/media/DU_Logo.svg' width=\"250\" height=\"300\"/></a>\n",
    "<pre>\n",
    "<center><b><h1>Python Programming - 2301CS404</b></center>\n",
    "<center><b><h1>Lab - 8</b></center>   \n",
    "<center><b><h1>Darshi Kathrani | 23010101134 | 11-01-2024</h1></b></center>\n",
    "<pre>"
   ]
  },
  {
   "cell_type": "markdown",
   "metadata": {},
   "source": [
    "# User Defined Function"
   ]
  },
  {
   "cell_type": "markdown",
   "metadata": {},
   "source": [
    "### 01) Write a function to calculate BMI given mass and height. (BMI = mass/h**2)"
   ]
  },
  {
   "cell_type": "code",
   "execution_count": 1,
   "metadata": {},
   "outputs": [
    {
     "data": {
      "text/plain": [
       "2.8125"
      ]
     },
     "execution_count": 1,
     "metadata": {},
     "output_type": "execute_result"
    }
   ],
   "source": [
    "def calculateBmi(m,h):\n",
    "    bmi=m/h**2\n",
    "    return bmi\n",
    "calculateBmi(45,4)"
   ]
  },
  {
   "cell_type": "markdown",
   "metadata": {},
   "source": [
    "### 02) Write a function that add first n numbers."
   ]
  },
  {
   "cell_type": "code",
   "execution_count": 17,
   "metadata": {},
   "outputs": [
    {
     "data": {
      "text/plain": [
       "15"
      ]
     },
     "execution_count": 17,
     "metadata": {},
     "output_type": "execute_result"
    }
   ],
   "source": [
    "def addFirstn(n):\n",
    "    sum=0\n",
    "    for i in range(n+1):\n",
    "       sum+=i\n",
    "    return sum\n",
    "addFirstn(5)"
   ]
  },
  {
   "cell_type": "markdown",
   "metadata": {},
   "source": [
    "### 03) Write a function that returns 1 if the given number is Prime or 0 otherwise."
   ]
  },
  {
   "cell_type": "code",
   "execution_count": 21,
   "metadata": {},
   "outputs": [
    {
     "data": {
      "text/plain": [
       "0"
      ]
     },
     "execution_count": 21,
     "metadata": {},
     "output_type": "execute_result"
    }
   ],
   "source": [
    "def checkPrime(n):\n",
    "   j=2\n",
    "   while j<=n/2:\n",
    "       if n%j==0:\n",
    "           return 0\n",
    "       j+=1\n",
    "   else:\n",
    "       return 1\n",
    "\n",
    "checkPrime(6)"
   ]
  },
  {
   "cell_type": "markdown",
   "metadata": {},
   "source": [
    "### 04) Write a function that returns the list of Prime numbers between given two numbers."
   ]
  },
  {
   "cell_type": "code",
   "execution_count": 4,
   "metadata": {},
   "outputs": [
    {
     "name": "stdout",
     "output_type": "stream",
     "text": [
      "[1, 2, 3, 5]\n"
     ]
    }
   ],
   "source": [
    "def checkPrime(n):\n",
    "   j=2\n",
    "   while j<=n/2:\n",
    "       if n%j==0:\n",
    "           return 0\n",
    "       j+=1\n",
    "   else:\n",
    "       return 1\n",
    "\n",
    "def listPrime(n1,n2):\n",
    "    l1=[]\n",
    "    for i in range(n1,n2+1):\n",
    "       if checkPrime(i)==1 && i!=1:\n",
    "           l1.append(i)\n",
    "\n",
    "    print(l1)\n",
    "listPrime(1,6)"
   ]
  },
  {
   "cell_type": "markdown",
   "metadata": {},
   "source": [
    "### 05) Write a function that returns True if the given string is Palindrome or False otherwise."
   ]
  },
  {
   "cell_type": "code",
   "execution_count": 9,
   "metadata": {},
   "outputs": [
    {
     "data": {
      "text/plain": [
       "True"
      ]
     },
     "execution_count": 9,
     "metadata": {},
     "output_type": "execute_result"
    }
   ],
   "source": [
    "def isPalindrome(str):\n",
    "    if str==str[::-1]:\n",
    "        return True\n",
    "    return False\n",
    "    \n",
    "isPalindrome('liril')\n"
   ]
  },
  {
   "cell_type": "markdown",
   "metadata": {},
   "source": [
    "### 06) Write a function that returns the sum of all the elements of the list."
   ]
  },
  {
   "cell_type": "code",
   "execution_count": 1,
   "metadata": {},
   "outputs": [
    {
     "data": {
      "text/plain": [
       "100"
      ]
     },
     "execution_count": 1,
     "metadata": {},
     "output_type": "execute_result"
    }
   ],
   "source": [
    "def sumOfList(l):\n",
    "    sum = 0\n",
    "    for i in l:\n",
    "        sum+=i\n",
    "    return sum\n",
    "l1=[10,20,30,40]\n",
    "sumOfList(l1)"
   ]
  },
  {
   "cell_type": "markdown",
   "metadata": {},
   "source": [
    "### 07) Write a function to calculate the sum of the first element of each tuples inside the list."
   ]
  },
  {
   "cell_type": "code",
   "execution_count": 2,
   "metadata": {},
   "outputs": [
    {
     "data": {
      "text/plain": [
       "20"
      ]
     },
     "execution_count": 2,
     "metadata": {},
     "output_type": "execute_result"
    }
   ],
   "source": [
    "def sumOfFirsts(l):\n",
    "    sum=0\n",
    "    for i in l:\n",
    "        for j in i:\n",
    "            sum+=j\n",
    "            break\n",
    "    return sum\n",
    "l1=[(1,11,5,6),(2,5),(10,20),(7,)]\n",
    "sumOfFirsts(l1)"
   ]
  },
  {
   "cell_type": "markdown",
   "metadata": {},
   "source": [
    "### 08) Write a recursive function to find nth term of Fibonacci Series."
   ]
  },
  {
   "cell_type": "code",
   "execution_count": 3,
   "metadata": {},
   "outputs": [
    {
     "data": {
      "text/plain": [
       "3"
      ]
     },
     "execution_count": 3,
     "metadata": {},
     "output_type": "execute_result"
    }
   ],
   "source": [
    "def recursiveFibo(n):\n",
    "    if n==1:\n",
    "        return 0\n",
    "    elif n==2:\n",
    "        return 1\n",
    "    else:\n",
    "        return recursiveFibo(n-1)+recursiveFibo(n-2)\n",
    "recursiveFibo(5)"
   ]
  },
  {
   "cell_type": "markdown",
   "metadata": {},
   "source": [
    "### 09) Write a function to get the name of the student based on the given rollno.\n",
    "#### Example: Given dict1 = {101:'Ajay', 102:'Rahul', 103:'Jay', 104:'Pooja'} find name of student whose rollno = 103"
   ]
  },
  {
   "cell_type": "code",
   "execution_count": 7,
   "metadata": {},
   "outputs": [
    {
     "data": {
      "text/plain": [
       "'Ajay'"
      ]
     },
     "execution_count": 7,
     "metadata": {},
     "output_type": "execute_result"
    }
   ],
   "source": [
    "def findName(dict1,roll):\n",
    "    for i in dict1:\n",
    "       val =  dict1.get(roll)\n",
    "    return val\n",
    "dict1 = {101:'Ajay', 102:'Rahul', 103:'Jay', 104:'Pooja'}\n",
    "findName(dict1,101)"
   ]
  },
  {
   "cell_type": "markdown",
   "metadata": {},
   "source": [
    "### 10) Write a function to get the sum of the scores ending with zero.\n",
    "#### Example : scores = [200, 456, 300, 100, 234, 678] \n",
    "#### Ans = 200 + 300 + 100 = 600"
   ]
  },
  {
   "cell_type": "code",
   "execution_count": 9,
   "metadata": {},
   "outputs": [
    {
     "data": {
      "text/plain": [
       "600"
      ]
     },
     "execution_count": 9,
     "metadata": {},
     "output_type": "execute_result"
    }
   ],
   "source": [
    "def sumScores(l):\n",
    "    sum=0\n",
    "    l1=[str(i) for i in l]\n",
    "    for i in l1:\n",
    "        if i.endswith('0'):\n",
    "          sum+=int(i)\n",
    "    return sum\n",
    "scores = [200, 456, 300, 100, 234, 678]\n",
    "sumScores(scores)"
   ]
  },
  {
   "cell_type": "markdown",
   "metadata": {},
   "source": [
    "### 11) Write a function to invert a given Dictionary.\n",
    "#### hint: keys to values & values to keys\n",
    "#### Before : {'a': 10, 'b':20, 'c':30, 'd':40}\n",
    "#### After : {10:'a', 20:'b', 30:'c', 40:'d'}"
   ]
  },
  {
   "cell_type": "code",
   "execution_count": 10,
   "metadata": {},
   "outputs": [
    {
     "data": {
      "text/plain": [
       "{10: 'a', 20: 'b', 30: 'c', 40: 'd'}"
      ]
     },
     "execution_count": 10,
     "metadata": {},
     "output_type": "execute_result"
    }
   ],
   "source": [
    "def invertDict(d1):\n",
    "    k=[]\n",
    "    v=[]\n",
    "    for i in d1.keys():\n",
    "        k.append(i)\n",
    "    for j in d1.values():\n",
    "        v.append(j)\n",
    "    d2={i:j for i,j in zip(v,k)}\n",
    "    return d2\n",
    "d= {'a': 10, 'b':20, 'c':30, 'd':40}\n",
    "invertDict(d)"
   ]
  },
  {
   "cell_type": "markdown",
   "metadata": {},
   "source": [
    "### 12) Write a function to check whether the given string is Pangram or not.\n",
    "#### hint: Pangram is a string containing all the characters a-z atlest once.\n",
    "#### \"the quick brown fox jumps over the lazy dog\" is a Pangram string."
   ]
  },
  {
   "cell_type": "code",
   "execution_count": 10,
   "metadata": {},
   "outputs": [
    {
     "data": {
      "text/plain": [
       "False"
      ]
     },
     "execution_count": 10,
     "metadata": {},
     "output_type": "execute_result"
    }
   ],
   "source": [
    "def isPangram(str):\n",
    "    for i in \"abcdefghijklmnopqrstuvwxyz\":\n",
    "        if i not in str:\n",
    "            return False\n",
    "    return True\n",
    "isPangram(\"the quick brown fox jumps over the lazy dog\")"
   ]
  },
  {
   "cell_type": "markdown",
   "metadata": {},
   "source": [
    "### 13) Write a function that returns the number of uppercase and lowercase letters in the given string. \n",
    "#### example : Input : s1 = AbcDEfgh ,Ouptput : no_upper = 3, no_lower = 5"
   ]
  },
  {
   "cell_type": "code",
   "execution_count": 14,
   "metadata": {},
   "outputs": [
    {
     "name": "stdout",
     "output_type": "stream",
     "text": [
      "No. of upper: 3\n",
      "No. of lower: 5\n"
     ]
    }
   ],
   "source": [
    "def countUpperLower(s):\n",
    "    count_u=0\n",
    "    count_l=0\n",
    "    for i in s:\n",
    "        if i.isupper():\n",
    "            count_u+=1\n",
    "        if i.islower():\n",
    "            count_l+=1\n",
    "    print(\"No. of upper:\",count_u)\n",
    "    print(\"No. of lower:\",count_l)\n",
    "countUpperLower(\"AbcDEfgh\")"
   ]
  },
  {
   "cell_type": "markdown",
   "metadata": {},
   "source": [
    "### 14) Write a lambda function to get smallest number from the given two numbers."
   ]
  },
  {
   "cell_type": "code",
   "execution_count": 18,
   "metadata": {},
   "outputs": [
    {
     "name": "stdin",
     "output_type": "stream",
     "text": [
      "Enter first no: 60\n",
      "Enter second no: 30\n"
     ]
    },
    {
     "data": {
      "text/plain": [
       "30"
      ]
     },
     "execution_count": 18,
     "metadata": {},
     "output_type": "execute_result"
    }
   ],
   "source": [
    "x=int(input(\"Enter first no:\"))\n",
    "y=int(input(\"Enter second no:\"))\n",
    "smallest=lambda x,y:x if x<y else y\n",
    "smallest(x,y)"
   ]
  },
  {
   "cell_type": "markdown",
   "metadata": {},
   "source": [
    "### 15) For the given list of names of students, extract the names having more that 7 characters. Use filter()."
   ]
  },
  {
   "cell_type": "code",
   "execution_count": 20,
   "metadata": {},
   "outputs": [
    {
     "name": "stdout",
     "output_type": "stream",
     "text": [
      "['nandanii', 'mahapratap', 'darshann', 'university']\n"
     ]
    }
   ],
   "source": [
    "names=['nandanii','riya','mahapratap','darshann','university','mansi','shruti']\n",
    "students=filter(lambda s:len(s)>7,names)\n",
    "print(list(students))"
   ]
  },
  {
   "cell_type": "markdown",
   "metadata": {},
   "source": [
    "### 16) For the given list of names of students, convert the first letter of all the names into uppercase. use map()."
   ]
  },
  {
   "cell_type": "code",
   "execution_count": 24,
   "metadata": {},
   "outputs": [
    {
     "name": "stdout",
     "output_type": "stream",
     "text": [
      "['Nandanii', 'Riya', 'Mahapratap', 'Darshann', 'University', 'Mansi', 'Shruti']\n"
     ]
    }
   ],
   "source": [
    "names=['nandanii','riya','mahapratap','darshann','university','mansi','shruti']\n",
    "names1=list(map(lambda name:name.capitalize(),names))\n",
    "print(names1)"
   ]
  },
  {
   "cell_type": "markdown",
   "metadata": {},
   "source": [
    "### 17) Write udfs to call the functions with following types of arguments:\n",
    "1. Positional Arguments\n",
    "2. Keyword Arguments\n",
    "3. Default Arguments\n",
    "4. Variable Legngth Positional(*args) & variable length Keyword Arguments (**kwargs)\n",
    "5. Keyword-Only & Positional Only Arguments"
   ]
  },
  {
   "cell_type": "code",
   "execution_count": 7,
   "metadata": {},
   "outputs": [
    {
     "name": "stdout",
     "output_type": "stream",
     "text": [
      "I am darshi I am in Sem 4\n",
      "I am darshi I am in Sem 4\n",
      "I am darshi I am in Sem 4\n",
      "Sum= 2\n",
      "Sum= 30\n",
      "7\n",
      "('a', 4)\n",
      "('b', 3)\n",
      "('c', 4)\n",
      "{'a': 4, 'b': 3, 'c': 4}\n",
      "30\n",
      "5\n"
     ]
    }
   ],
   "source": [
    "#Positional Arguments\n",
    "def intro(name,sem):\n",
    "    print(\"I am\",name,\"I am in Sem\",sem)\n",
    "intro('darshi',4)\n",
    "\n",
    "#Keyword Arguments\n",
    "def intro(name,sem):\n",
    "    print(\"I am\",name,\"I am in Sem\",sem)\n",
    "intro(sem=4,name='darshi')\n",
    "\n",
    "#Default Arguments\n",
    "def intro(name,sem=4):\n",
    "    print(\"I am\",name,\"I am in Sem\",sem)\n",
    "intro('darshi')\n",
    "\n",
    "#Variable Legngth Positional(*args) & variable length Keyword Arguments (**kwargs)\n",
    "def add(n1,*n):\n",
    "    sum=n1\n",
    "    for i in n:\n",
    "        sum+=i\n",
    "    print(\"Sum=\",sum)\n",
    "add(2)\n",
    "add(10,10,10)\n",
    "\n",
    "def add1(**a):\n",
    "    sum=0\n",
    "    sum=a['a']+a['b']\n",
    "    print(sum)\n",
    "    for i in a.items():\n",
    "        print(i)\n",
    "    print(a)\n",
    "add1(a=4,b=3,c=4)\n",
    "\n",
    "# Keyword-Only & Positional Only Arguments\n",
    "def add2(n1,n2):\n",
    "    print(n1+n2)\n",
    "add2(n2=10,n1=20)\n",
    "\n",
    "\n",
    "def add(n1,n2):\n",
    "    print(n1+n2)\n",
    "add(2,3)\n",
    "\n"
   ]
  }
 ],
 "metadata": {
  "kernelspec": {
   "display_name": "Python 3 (ipykernel)",
   "language": "python",
   "name": "python3"
  },
  "language_info": {
   "codemirror_mode": {
    "name": "ipython",
    "version": 3
   },
   "file_extension": ".py",
   "mimetype": "text/x-python",
   "name": "python",
   "nbconvert_exporter": "python",
   "pygments_lexer": "ipython3",
   "version": "3.12.7"
  }
 },
 "nbformat": 4,
 "nbformat_minor": 4
}
