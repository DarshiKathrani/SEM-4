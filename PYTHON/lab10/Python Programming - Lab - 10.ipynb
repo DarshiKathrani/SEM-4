{
 "cells": [
  {
   "cell_type": "markdown",
   "metadata": {},
   "source": [
    "<a href='https://www.darshan.ac.in/'> <img src='https://www.darshan.ac.in/Content/media/DU_Logo.svg' width=\"250\" height=\"300\"/></a>\n",
    "<pre>\n",
    "<center><b><h1>Python Programming - 2301CS404</b></center>\n",
    "<center><b><h1>Lab - 10</b></center>   \n",
    "<center><b><h1>Darshi Kathrani | 23010101134 | 03-02-2025</h1></b></center>\n",
    "<pre>"
   ]
  },
  {
   "cell_type": "markdown",
   "metadata": {},
   "source": [
    "# Exception Handling"
   ]
  },
  {
   "cell_type": "markdown",
   "metadata": {},
   "source": [
    "### 01) WAP to handle following exceptions:\n",
    "1. ZeroDivisionError\n",
    "2. ValueError\n",
    "3. TypeError\n",
    "#### Note: handle them using separate except blocks and also using single except block too."
   ]
  },
  {
   "cell_type": "code",
   "execution_count": 8,
   "metadata": {},
   "outputs": [
    {
     "name": "stdin",
     "output_type": "stream",
     "text": [
      "Enter the first  number 2\n",
      "Enter the second number 2\n"
     ]
    },
    {
     "name": "stdout",
     "output_type": "stream",
     "text": [
      "1.0\n",
      "unsupported operand type(s) for +: 'int' and 'str'\n"
     ]
    }
   ],
   "source": [
    "# Using single except block\n",
    "try:\n",
    "    a=int(input(\"Enter the first  number\"))\n",
    "    b=int(input(\"Enter the second number\"))\n",
    "    print(a/b)\n",
    "    print(a+'')\n",
    "except (ZeroDivisionError,ValueError,TypeError) as msg:\n",
    "    print(msg)\n",
    "\n",
    "# Using multiple except block\n",
    "try:\n",
    "    a=int(input(\"Enter the first  number\"))\n",
    "    b=int(input(\"Enter the second number\"))\n",
    "    print(a/b)\n",
    "    print(a+'')\n",
    "except ZeroDivision as msg:\n",
    "    print(msg)\n",
    "except ValueError as msg:\n",
    "    print(msg)\n",
    "except TypeError as msg:\n",
    "    print(msg)"
   ]
  },
  {
   "cell_type": "markdown",
   "metadata": {},
   "source": [
    "### 02)  WAP to handle following exceptions:\n",
    "1. IndexError\n",
    "2. KeyError"
   ]
  },
  {
   "cell_type": "code",
   "execution_count": 16,
   "metadata": {},
   "outputs": [
    {
     "name": "stdin",
     "output_type": "stream",
     "text": [
      "Enter the index: 1\n",
      "Enter key: birthdate\n"
     ]
    },
    {
     "name": "stdout",
     "output_type": "stream",
     "text": [
      "2\n",
      "'birthdate'\n"
     ]
    }
   ],
   "source": [
    "l=[1,2,3,4,5]\n",
    "d1={'name': 'Darshi', 'age':19, 'rollno':101}\n",
    "try:\n",
    "    i=int(input(\"Enter the index:\"))\n",
    "    k=input(\"Enter key:\")\n",
    "    print(l[i])\n",
    "    print(d1[k])\n",
    "except (IndexError,KeyError) as msg:\n",
    "    print(msg)"
   ]
  },
  {
   "cell_type": "markdown",
   "metadata": {},
   "source": [
    "### 03) WAP to handle following exceptions:\n",
    "1. FileNotFoundError\n",
    "2. ModuleNotFoundError"
   ]
  },
  {
   "cell_type": "code",
   "execution_count": 21,
   "metadata": {},
   "outputs": [
    {
     "name": "stdout",
     "output_type": "stream",
     "text": [
      "No module named 'myModule'\n",
      "[Errno 2] No such file or directory: 'new.txt'\n"
     ]
    }
   ],
   "source": [
    "try:\n",
    "    import myModule\n",
    "    \n",
    "except ModuleNotFoundError as msg:\n",
    "    print(msg)\n",
    "try:\n",
    "    fp=open(\"new.txt\")\n",
    "except FileNotFoundError as msg:\n",
    "    print(msg)"
   ]
  },
  {
   "cell_type": "markdown",
   "metadata": {},
   "source": [
    "### 04) WAP that catches all type of exceptions in a single except block."
   ]
  },
  {
   "cell_type": "code",
   "execution_count": 27,
   "metadata": {},
   "outputs": [
    {
     "name": "stdin",
     "output_type": "stream",
     "text": [
      "Enter 1st number 2\n",
      "Enter 2nd number 2\n"
     ]
    },
    {
     "name": "stdout",
     "output_type": "stream",
     "text": [
      "1.0\n"
     ]
    },
    {
     "name": "stdin",
     "output_type": "stream",
     "text": [
      "Enter the index: 0\n",
      "Enter key: sem\n"
     ]
    },
    {
     "name": "stdout",
     "output_type": "stream",
     "text": [
      "1\n",
      "'sem'\n"
     ]
    }
   ],
   "source": [
    "try:\n",
    "    a=int(input(\"Enter 1st number\"))\n",
    "    b=int(input(\"Enter 2nd number\"))\n",
    "    print(a/b)\n",
    "    # print(a+' ')\n",
    "    i=int(input(\"Enter the index:\"))\n",
    "    k=input(\"Enter key:\")\n",
    "    print(l[i])\n",
    "    print(d1[k])\n",
    "\n",
    "except (ZeroDivisionError,ValueError,TypeError,IndexError,KeyError) as msg:\n",
    "    print(msg)"
   ]
  },
  {
   "cell_type": "markdown",
   "metadata": {},
   "source": [
    "### 05) WAP to demonstrate else  and finally block."
   ]
  },
  {
   "cell_type": "code",
   "execution_count": 30,
   "metadata": {},
   "outputs": [
    {
     "name": "stdout",
     "output_type": "stream",
     "text": [
      "[Errno 2] No such file or directory: 'new.txt'\n",
      "File is tried to open\n"
     ]
    }
   ],
   "source": [
    "try:\n",
    "    fp=open(\"new.txt\")\n",
    "except FileNotFoundError as err:\n",
    "    print(err)\n",
    "else:\n",
    "    print(fp.read())\n",
    "    fp.close()\n",
    "finally:\n",
    "    print(\"File is tried to open\")"
   ]
  },
  {
   "cell_type": "markdown",
   "metadata": {},
   "source": [
    "### 06) Create a short program that prompts the user for a list of grades separated by commas. \n",
    "### Split the string into individual grades and use a list comprehension to convert each string to an integer. \n",
    "### You should use a try statement to inform the user when the values they entered cannot be converted."
   ]
  },
  {
   "cell_type": "code",
   "execution_count": 37,
   "metadata": {},
   "outputs": [
    {
     "name": "stdin",
     "output_type": "stream",
     "text": [
      "Enter grades separated by commas darshi,12,35\n"
     ]
    },
    {
     "name": "stdout",
     "output_type": "stream",
     "text": [
      "Value Error occured\n"
     ]
    }
   ],
   "source": [
    "try:\n",
    "    grade=input(\"Enter grades separated by commas\")\n",
    "    l=[int(i) for i in  grade.split(',')]   \n",
    "    print(l)\n",
    "except:\n",
    "    print(\"Value Error occured\")"
   ]
  },
  {
   "cell_type": "markdown",
   "metadata": {},
   "source": [
    "### 07) WAP to create an udf divide(a,b) that handles ZeroDivisionError."
   ]
  },
  {
   "cell_type": "code",
   "execution_count": 39,
   "metadata": {},
   "outputs": [
    {
     "name": "stdout",
     "output_type": "stream",
     "text": [
      "1.0\n",
      "Zero Division error occured\n"
     ]
    }
   ],
   "source": [
    "def DivideFun(a,b):\n",
    "    try:\n",
    "        print(a/b)\n",
    "    except ZeroDivisionError:\n",
    "        print(\"Zero Division error occured\")\n",
    "DivideFun(2,2)\n",
    "DivideFun(2,0)"
   ]
  },
  {
   "cell_type": "markdown",
   "metadata": {},
   "source": [
    "### 08) WAP that gets an age of a person form the user and raises ValueError with error message: \"Enter Valid Age\" :\n",
    "#### If the age is less than 18. \n",
    "#### otherwise print the age."
   ]
  },
  {
   "cell_type": "code",
   "execution_count": 43,
   "metadata": {},
   "outputs": [
    {
     "name": "stdin",
     "output_type": "stream",
     "text": [
      "Enter the age of person: 15\n"
     ]
    },
    {
     "name": "stdout",
     "output_type": "stream",
     "text": [
      "Enter Valid Age\n"
     ]
    }
   ],
   "source": [
    "try:\n",
    "    age=int(input(\"Enter the age of person:\"))\n",
    "    if age>=18:\n",
    "        print(age)\n",
    "    else:\n",
    "        raise ValueError\n",
    "except ValueError:\n",
    "    print(\"Enter Valid Age\")"
   ]
  },
  {
   "cell_type": "markdown",
   "metadata": {},
   "source": [
    "### 09) WAP to raise your custom Exception named InvalidUsernameError with the error message : \"Username must be between 5 and 15 characters long\":\n",
    "#### if the given name is having characters less than 5 or greater than 15.\n",
    "#### otherwise print the given username."
   ]
  },
  {
   "cell_type": "code",
   "execution_count": 47,
   "metadata": {},
   "outputs": [
    {
     "name": "stdin",
     "output_type": "stream",
     "text": [
      "Enter the username: darshi123\n"
     ]
    },
    {
     "name": "stdout",
     "output_type": "stream",
     "text": [
      "darshi123\n"
     ]
    }
   ],
   "source": [
    "class InvalidUsernameError(Exception):\n",
    "    pass\n",
    "try:\n",
    "    username=input(\"Enter the username:\")\n",
    "    if len(username)<5 or len(username)>15:\n",
    "        raise InvalidUsernameError\n",
    "    else:\n",
    "        print(username)\n",
    "except InvalidUsernameError:\n",
    "    print(\"Username must be between 5 and 15 characters long\")"
   ]
  },
  {
   "cell_type": "markdown",
   "metadata": {},
   "source": [
    "### 10) WAP to raise your custom Exception named NegativeNumberError with the error message : \"Cannot calculate the square root of a negative number\" :\n",
    "#### if the given number is negative.\n",
    "#### otherwise print the square root of the given number."
   ]
  },
  {
   "cell_type": "code",
   "execution_count": 49,
   "metadata": {},
   "outputs": [
    {
     "name": "stdin",
     "output_type": "stream",
     "text": [
      "Enter a number: 25\n"
     ]
    },
    {
     "name": "stdout",
     "output_type": "stream",
     "text": [
      "5.0\n"
     ]
    }
   ],
   "source": [
    "import math\n",
    "class NegativeNumberError(Exception):\n",
    "    def __init__(self,msg):\n",
    "        self.msg=msg\n",
    "try:\n",
    "    a=int(input(\"Enter a number:\"))\n",
    "    if a<0:\n",
    "        raise NegativeNumberError(\"Cannot calculate the square root of a negative number\")\n",
    "    else:\n",
    "        print(math.sqrt(a))\n",
    "except NegativeNumberError as err:\n",
    "    print(err)"
   ]
  }
 ],
 "metadata": {
  "kernelspec": {
   "display_name": "Python 3 (ipykernel)",
   "language": "python",
   "name": "python3"
  },
  "language_info": {
   "codemirror_mode": {
    "name": "ipython",
    "version": 3
   },
   "file_extension": ".py",
   "mimetype": "text/x-python",
   "name": "python",
   "nbconvert_exporter": "python",
   "pygments_lexer": "ipython3",
   "version": "3.12.7"
  }
 },
 "nbformat": 4,
 "nbformat_minor": 4
}
