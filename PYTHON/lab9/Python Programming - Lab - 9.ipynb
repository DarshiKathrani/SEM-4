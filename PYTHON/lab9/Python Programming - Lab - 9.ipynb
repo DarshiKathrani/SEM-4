{
 "cells": [
  {
   "cell_type": "markdown",
   "metadata": {},
   "source": [
    "<a href='https://www.darshan.ac.in/'> <img src='https://www.darshan.ac.in/Content/media/DU_Logo.svg' width=\"250\" height=\"300\"/></a>\n",
    "<pre>\n",
    "<center><b><h1>Python Programming - 2301CS404</b></center>\n",
    "<center><b><h1>Lab - 9</b></center>    \n",
    "<pre>"
   ]
  },
  {
   "cell_type": "markdown",
   "metadata": {},
   "source": [
    "# File I/O"
   ]
  },
  {
   "cell_type": "markdown",
   "metadata": {},
   "source": [
    "### 01) WAP to read and display the contents of a text file. (also try to open the file in some other directory) \n",
    "#### - in the form of a string\n",
    "#### - line by line\n",
    "#### - in the form of a list"
   ]
  },
  {
   "cell_type": "code",
   "execution_count": 13,
   "metadata": {},
   "outputs": [
    {
     "name": "stdout",
     "output_type": "stream",
     "text": [
      "['Hello World\\n', 'This is my 1st demo\\n', 'Demo for IO\\n', 'Byee']\n"
     ]
    }
   ],
   "source": [
    "fp=open(\"D:\\\\Sem-4\\\\Python\\\\demo.txt\",\"r\")\n",
    "#IN FORM OF STRING\n",
    "# data=fp.read()\n",
    "# print(\"File in the form of string:\",data)\n",
    "\n",
    "#LINE BY LINE\n",
    "# for i in fp:\n",
    "#     print(i)\n",
    "\n",
    "#IN FORM OF LIST\n",
    "l1=fp.readlines()\n",
    "print(l1)\n",
    "fp.close()"
   ]
  },
  {
   "cell_type": "markdown",
   "metadata": {},
   "source": [
    "### 02) WAP to create file named \"new.txt\" only if it doesn't exist."
   ]
  },
  {
   "cell_type": "code",
   "execution_count": 14,
   "metadata": {},
   "outputs": [],
   "source": [
    "fp=open(\"new.txt\",\"x\")\n",
    "fp.close()"
   ]
  },
  {
   "cell_type": "markdown",
   "metadata": {},
   "source": [
    "### 03) WAP to read first 5 lines from the text file."
   ]
  },
  {
   "cell_type": "code",
   "execution_count": 23,
   "metadata": {},
   "outputs": [
    {
     "name": "stdout",
     "output_type": "stream",
     "text": [
      "Hiiii\n",
      "THis is new file\n",
      "This is in lab9 folder\n",
      "This is for testing\n",
      "How are youuu doing\n",
      "\n"
     ]
    }
   ],
   "source": [
    "fp=open('new.txt',\"r\")\n",
    "data=\"\"\n",
    "count=0\n",
    "for i in fp:\n",
    "    if count<5:\n",
    "        data+=i\n",
    "        count+=1\n",
    "print(data)\n",
    "fp.close()"
   ]
  },
  {
   "cell_type": "markdown",
   "metadata": {},
   "source": [
    "### 04) WAP to find the longest word(s) in a file"
   ]
  },
  {
   "cell_type": "code",
   "execution_count": 37,
   "metadata": {},
   "outputs": [
    {
     "name": "stdout",
     "output_type": "stream",
     "text": [
      "testing\n",
      "doinggg\n"
     ]
    }
   ],
   "source": [
    "fp=open('new.txt','r')\n",
    "l=''\n",
    "max=0\n",
    "lw=''\n",
    "for i in fp:\n",
    "    l+=i\n",
    "words=l.split()\n",
    "for i in words:\n",
    "    if len(i)>max:\n",
    "        max=len(i)\n",
    "for i in words:\n",
    "    if len(i)==max:\n",
    "        print(i)\n",
    "\n",
    "fp.close()"
   ]
  },
  {
   "cell_type": "markdown",
   "metadata": {},
   "source": [
    "### 05) WAP to count the no. of lines, words and characters in a given text file."
   ]
  },
  {
   "cell_type": "code",
   "execution_count": 58,
   "metadata": {},
   "outputs": [
    {
     "name": "stdout",
     "output_type": "stream",
     "text": [
      "No. of lines: 2\n",
      "3\n",
      "No. of characters:13\n"
     ]
    }
   ],
   "source": [
    "fp=open('new.txt','r')\n",
    "data=fp.readlines()\n",
    "print('No. of lines:',len(data))\n",
    "words=str(data).split()\n",
    "count=0\n",
    "n=0\n",
    "for  i in  words:\n",
    "    count+=1\n",
    "print(count)\n",
    "print('No. of characters:',end='')\n",
    "sum=0\n",
    "for i in data:\n",
    "    sum+=len(i)\n",
    "print(sum)\n",
    "fp.close()\n"
   ]
  },
  {
   "cell_type": "markdown",
   "metadata": {},
   "source": [
    "### 06) WAP to copy the content of a file to the another file."
   ]
  },
  {
   "cell_type": "code",
   "execution_count": 62,
   "metadata": {},
   "outputs": [
    {
     "name": "stdout",
     "output_type": "stream",
     "text": [
      "Hiiii\n",
      "This is\n"
     ]
    }
   ],
   "source": [
    "fp=open('new.txt','r')\n",
    "fp1=open('new1.txt','w')\n",
    "data=''\n",
    "for i in fp:\n",
    "    data+=i\n",
    "print(data)\n",
    "fp1.write(data)\n",
    "fp.close()   \n",
    "fp1.close()"
   ]
  },
  {
   "cell_type": "markdown",
   "metadata": {},
   "source": [
    "### 07) WAP to find the size of the text file. "
   ]
  },
  {
   "cell_type": "code",
   "execution_count": 63,
   "metadata": {},
   "outputs": [
    {
     "name": "stdout",
     "output_type": "stream",
     "text": [
      "13\n"
     ]
    }
   ],
   "source": [
    "fp=open('new.txt','rb')\n",
    "print(fp.seek(0,2))"
   ]
  },
  {
   "cell_type": "markdown",
   "metadata": {},
   "source": [
    "### 08) WAP to create an UDF named frequency to count occurances of the specific word in a given text file."
   ]
  },
  {
   "cell_type": "code",
   "execution_count": 16,
   "metadata": {},
   "outputs": [
    {
     "name": "stdin",
     "output_type": "stream",
     "text": [
      "Enter specific word: Hi\n"
     ]
    },
    {
     "name": "stdout",
     "output_type": "stream",
     "text": [
      "5\n"
     ]
    }
   ],
   "source": [
    "def frequencyCount():\n",
    "    s=input(\"Enter specific word:\")\n",
    "    fp=open('new.txt','r')\n",
    "    count=0\n",
    "    data=(fp.read())\n",
    "    words=data.split()\n",
    "    for i in words:\n",
    "        if i.lower()==s.lower():\n",
    "            count+=1\n",
    "    print(count)\n",
    "frequencyCount()"
   ]
  },
  {
   "cell_type": "markdown",
   "metadata": {},
   "source": [
    "### 09) WAP to get the score of five subjects from the user, store them in a file. Fetch those marks and find the highest score."
   ]
  },
  {
   "cell_type": "code",
   "execution_count": 37,
   "metadata": {},
   "outputs": [
    {
     "name": "stdout",
     "output_type": "stream",
     "text": [
      "29\n"
     ]
    }
   ],
   "source": [
    "fp=open(\"marks2.txt\",\"a\")\n",
    "for i in range(5):\n",
    "    s=input(\"Enter the marks for subject \"+str(i+1))\n",
    "    fp.write(s+\" \")\n",
    "fp.close()\n",
    "fp1=open(\"marks2.txt\",\"r\")\n",
    "max=0\n",
    "for i in fp1.read().split():\n",
    "    if int(i)>max:\n",
    "        max=int(i)\n",
    "print(max)\n",
    "fp1.close()"
   ]
  },
  {
   "cell_type": "markdown",
   "metadata": {},
   "source": [
    "### 10) WAP to write first 100 prime numbers to a file named primenumbers.txt \n",
    "(Note: each number should be in new line)"
   ]
  },
  {
   "cell_type": "code",
   "execution_count": 1,
   "metadata": {},
   "outputs": [],
   "source": [
    "prime=[]\n",
    "fp=open(\"primenumbers.txt\",\"a\")\n",
    "for i in range(101):\n",
    "    for j in range(2,i):\n",
    "        if i%j==0:\n",
    "           break\n",
    "    else:\n",
    "        prime.append(i)\n",
    "fp.write(str(prime))\n",
    "fp.close()"
   ]
  },
  {
   "cell_type": "markdown",
   "metadata": {},
   "source": [
    "### 11) WAP to merge two files and write it in a new file."
   ]
  },
  {
   "cell_type": "code",
   "execution_count": 2,
   "metadata": {},
   "outputs": [],
   "source": [
    "fp=open(\"new.txt\",\"r\")\n",
    "data=fp.read()\n",
    "fp1=open(\"new2.txt\",\"a\")\n",
    "fp1.write(data)\n",
    "fp2=open(\"primenumbers.txt\",\"r\")\n",
    "data1=fp2.read()\n",
    "fp1.write(data1)\n",
    "fp.close()\n",
    "fp1.close()\n",
    "fp2.close()"
   ]
  },
  {
   "cell_type": "markdown",
   "metadata": {},
   "source": [
    "### 12) WAP to replace word1 by word2 of a text file. Write the updated data to new file."
   ]
  },
  {
   "cell_type": "code",
   "execution_count": 38,
   "metadata": {},
   "outputs": [
    {
     "name": "stdin",
     "output_type": "stream",
     "text": [
      "Enter the word to be updated: this\n",
      "Enter the updated word: these\n"
     ]
    }
   ],
   "source": [
    "w1=input(\"Enter the word to be updated:\")\n",
    "w2=input(\"Enter the updated word:\")\n",
    "fp=open(\"new.txt\",\"r\")\n",
    "data=fp.read().split()\n",
    "data1=str(data)\n",
    "data2=data1.replace(w1,w2)\n",
    "fp1=open(\"newcopy.txt\",\"w\")\n",
    "fp1.write(data2)\n",
    "fp.close()\n",
    "fp1.close()"
   ]
  },
  {
   "cell_type": "markdown",
   "metadata": {},
   "source": [
    "### 13) Demonstrate tell() and seek() for all the cases(seek from beginning-end-current position) taking a suitable example of your choice."
   ]
  },
  {
   "cell_type": "code",
   "execution_count": 18,
   "metadata": {},
   "outputs": [
    {
     "name": "stdout",
     "output_type": "stream",
     "text": [
      "0\n",
      "5\n",
      "b'is is'\n",
      "10\n",
      "5\n",
      "76\n"
     ]
    }
   ],
   "source": [
    "fp=open(\"new.txt\",\"rb\")\n",
    "print(fp.tell())\n",
    "fp.seek(5,0)\n",
    "print(fp.tell())\n",
    "print(fp.read(5))\n",
    "print(fp.tell())\n",
    "fp.seek(-5,1)\n",
    "print(fp.tell())\n",
    "fp.seek(0,2)\n",
    "print(fp.tell())"
   ]
  }
 ],
 "metadata": {
  "kernelspec": {
   "display_name": "Python 3 (ipykernel)",
   "language": "python",
   "name": "python3"
  },
  "language_info": {
   "codemirror_mode": {
    "name": "ipython",
    "version": 3
   },
   "file_extension": ".py",
   "mimetype": "text/x-python",
   "name": "python",
   "nbconvert_exporter": "python",
   "pygments_lexer": "ipython3",
   "version": "3.12.7"
  }
 },
 "nbformat": 4,
 "nbformat_minor": 4
}
