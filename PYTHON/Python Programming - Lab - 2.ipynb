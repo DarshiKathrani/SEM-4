{
 "cells": [
  {
   "cell_type": "markdown",
   "metadata": {},
   "source": [
    "\n",
    "<a href='https://www.darshan.ac.in/'> <img src='https://www.darshan.ac.in/Content/media/DU_Logo.svg' width=\"250\" height=\"300\"/></a>\n",
    "<pre>\n",
    "<center><b><h1>Python Programming - 2301CS404</b></center>\n",
    "<center><b><h1>Lab - 2</b></center> \n",
    "<center><b><h1>Darshi Kathrani | 23010101134 | 02-12-2024</h1></b></center>\n",
    "<pre>"
   ]
  },
  {
   "cell_type": "markdown",
   "metadata": {},
   "source": [
    "# if..else.."
   ]
  },
  {
   "cell_type": "markdown",
   "metadata": {},
   "source": [
    "### 01) WAP to check whether the given number is positive or negative."
   ]
  },
  {
   "cell_type": "code",
   "execution_count": 5,
   "metadata": {},
   "outputs": [
    {
     "name": "stdin",
     "output_type": "stream",
     "text": [
      "Enter the number: 2\n"
     ]
    },
    {
     "name": "stdout",
     "output_type": "stream",
     "text": [
      "Number is positive\n"
     ]
    }
   ],
   "source": [
    "a=int(input(\"Enter the number:\"))\n",
    "if(a>0):\n",
    "    print(\"Number is positive\")\n",
    "\n",
    "elif(a<0):\n",
    "    print(\"Number is negative\")\n",
    "\n",
    "else:\n",
    "    print(\"Number is neither positive or negative\")"
   ]
  },
  {
   "cell_type": "markdown",
   "metadata": {},
   "source": [
    "### 02) WAP to check whether the given number is odd or even."
   ]
  },
  {
   "cell_type": "code",
   "execution_count": 6,
   "metadata": {},
   "outputs": [
    {
     "name": "stdin",
     "output_type": "stream",
     "text": [
      "Enter the number: 4\n"
     ]
    },
    {
     "name": "stdout",
     "output_type": "stream",
     "text": [
      "Number is even\n"
     ]
    }
   ],
   "source": [
    "a=int(input(\"Enter the number:\"))\n",
    "if(a%2==0):\n",
    "    print(\"Number is even\")\n",
    "else:\n",
    "    print(\"Number is odd\")"
   ]
  },
  {
   "cell_type": "markdown",
   "metadata": {},
   "source": [
    "### 03) WAP to find out largest number from given two numbers using simple if and ternary operator."
   ]
  },
  {
   "cell_type": "code",
   "execution_count": 8,
   "metadata": {},
   "outputs": [
    {
     "name": "stdin",
     "output_type": "stream",
     "text": [
      "Enter first number 2\n",
      "Enter second number 4\n"
     ]
    },
    {
     "name": "stdout",
     "output_type": "stream",
     "text": [
      "4 is largest number\n"
     ]
    },
    {
     "name": "stdin",
     "output_type": "stream",
     "text": [
      "Enter first number 1\n",
      "Enter second number 3\n"
     ]
    },
    {
     "data": {
      "text/plain": [
       "3"
      ]
     },
     "execution_count": 8,
     "metadata": {},
     "output_type": "execute_result"
    }
   ],
   "source": [
    "a=int(input(\"Enter first number\"))\n",
    "b=int(input(\"Enter second number\"))\n",
    "if(a>b):\n",
    "    print(a,\"is largest number\")\n",
    "\n",
    "else:\n",
    "    print(b,\"is largest number\")\n",
    "\n",
    "#using ternary\n",
    "\n",
    "c=int(input(\"Enter first number\"))\n",
    "d=int(input(\"Enter second number\"))\n",
    "c if(c>d) else d"
   ]
  },
  {
   "cell_type": "markdown",
   "metadata": {},
   "source": [
    "### 04) WAP to find out largest number from given three numbers."
   ]
  },
  {
   "cell_type": "code",
   "execution_count": 9,
   "metadata": {},
   "outputs": [
    {
     "name": "stdin",
     "output_type": "stream",
     "text": [
      "Enter first number 1\n",
      "Enter second number 2\n",
      "Enter third number 3\n"
     ]
    },
    {
     "name": "stdout",
     "output_type": "stream",
     "text": [
      "3 is largest number\n"
     ]
    }
   ],
   "source": [
    "a=int(input(\"Enter first number\"))\n",
    "b=int(input(\"Enter second number\"))\n",
    "c=int(input(\"Enter third number\"))\n",
    "if(a>b):\n",
    "    if(a>c):\n",
    "        print(a,\"is largest number\")\n",
    "    else:\n",
    "        print(c,\"is largest number\")\n",
    "\n",
    "else:\n",
    "    if(b>c):\n",
    "        print(b,\"is largest number\")\n",
    "    else:\n",
    "        print(c,\"is largest number\")"
   ]
  },
  {
   "cell_type": "markdown",
   "metadata": {},
   "source": [
    "### 05) WAP to check whether the given year is leap year or not.\n",
    "[If a year can be divisible by 4 but not divisible by 100 then it is leap year but if it is divisible by 400 then it is leap year]"
   ]
  },
  {
   "cell_type": "code",
   "execution_count": 14,
   "metadata": {},
   "outputs": [
    {
     "name": "stdin",
     "output_type": "stream",
     "text": [
      "Enter year 2023\n"
     ]
    },
    {
     "name": "stdout",
     "output_type": "stream",
     "text": [
      "Given year is not leap year\n"
     ]
    }
   ],
   "source": [
    "year=int(input(\"Enter year\"))\n",
    "if((year%4==0 and year%100!=0) or year%400==0):\n",
    "    print(\"Given year is leap year\")\n",
    "else:\n",
    "    print(\"Given year is not leap year\")"
   ]
  },
  {
   "cell_type": "markdown",
   "metadata": {},
   "source": [
    "### 06) WAP in python to display the name of the day according to the number given by the user."
   ]
  },
  {
   "cell_type": "code",
   "execution_count": 15,
   "metadata": {},
   "outputs": [
    {
     "name": "stdin",
     "output_type": "stream",
     "text": [
      "Enter any number 7\n"
     ]
    },
    {
     "name": "stdout",
     "output_type": "stream",
     "text": [
      "It is sunday\n"
     ]
    }
   ],
   "source": [
    "a=int(input(\"Enter any number\"))\n",
    "if(a%7==1):\n",
    "    print(\"It is monday\")\n",
    "if(a%7==2):\n",
    "    print(\"It is tuesday\")\n",
    "if(a%7==3):\n",
    "    print(\"It is wednesday\")\n",
    "if(a%7==4):\n",
    "    print(\"It is thursday\")\n",
    "if(a%7==5):\n",
    "    print(\"It is friday\")\n",
    "if(a%7==6):\n",
    "    print(\"It is saturday\")\n",
    "if(a%7==0):\n",
    "    print(\"It is sunday\")"
   ]
  },
  {
   "cell_type": "markdown",
   "metadata": {},
   "source": [
    "### 07) WAP to implement simple calculator which performs (add,sub,mul,div) of two no. based on user input."
   ]
  },
  {
   "cell_type": "code",
   "execution_count": 16,
   "metadata": {},
   "outputs": [
    {
     "name": "stdin",
     "output_type": "stream",
     "text": [
      "Enter first number 1\n",
      "Enter second number 2\n",
      "Enter operator /\n"
     ]
    },
    {
     "name": "stdout",
     "output_type": "stream",
     "text": [
      "0.5\n"
     ]
    }
   ],
   "source": [
    "a=int(input(\"Enter first number\"))\n",
    "b=int(input(\"Enter second number\"))\n",
    "c=input(\"Enter operator\")\n",
    "if(c==\"+\"):\n",
    "    print(a+b)\n",
    "elif(c==\"-\"):\n",
    "    print(a-b)\n",
    "elif(c==\"*\"):\n",
    "    print(a*b)\n",
    "elif(c==\"/\"):\n",
    "    print(a/b)\n",
    "else:\n",
    "    print(\"Invalid operator\")"
   ]
  },
  {
   "cell_type": "markdown",
   "metadata": {},
   "source": [
    "### 08) WAP to read marks of five subjects. Calculate percentage and print class accordingly. \n",
    "Fail below 35 </br>\n",
    "Pass Class between 35 to 45 </br>\n",
    "Second Class</br>\n",
    "between 45 to 60</br>\n",
    "First Class between 60 to 70</br> \n",
    "Distinction if more than 70"
   ]
  },
  {
   "cell_type": "code",
   "execution_count": 19,
   "metadata": {},
   "outputs": [
    {
     "name": "stdin",
     "output_type": "stream",
     "text": [
      "Enter marks of subject 1 95\n",
      "Enter marks of subject 2 78\n",
      "Enter marks of subject 3 89\n",
      "Enter marks of subject 4 99\n",
      "Enter marks of subject 5 70\n"
     ]
    },
    {
     "name": "stdout",
     "output_type": "stream",
     "text": [
      "Distinction\n"
     ]
    }
   ],
   "source": [
    "s1=int(input(\"Enter marks of subject 1\"))\n",
    "s2=int(input(\"Enter marks of subject 2\"))\n",
    "s3=int(input(\"Enter marks of subject 3\"))\n",
    "s4=int(input(\"Enter marks of subject 4\"))\n",
    "s5=int(input(\"Enter marks of subject 5\"))\n",
    "per=(s1+s2+s3+s4+s5)/5\n",
    "if(per<35):\n",
    "    print(\"Fail\")\n",
    "elif(per>=35 and per<=45):\n",
    "    print(\"Pass\")\n",
    "elif(per>=45 and per<=60):\n",
    "    print(\"Second class\")\n",
    "elif(per>=60 and per<=70):\n",
    "    print(\"First class\")\n",
    "else:\n",
    "    print(\"Distinction\")"
   ]
  },
  {
   "cell_type": "markdown",
   "metadata": {},
   "source": [
    "### 09) Three sides of a triangle are entered through the keyboard, WAP to check whether the triangle is isosceles, equilateral, scalene or right-angled triangle."
   ]
  },
  {
   "cell_type": "code",
   "execution_count": 28,
   "metadata": {},
   "outputs": [
    {
     "name": "stdin",
     "output_type": "stream",
     "text": [
      "Enter first side 2\n",
      "Enter second side 2\n",
      "Enter third side 2\n"
     ]
    },
    {
     "name": "stdout",
     "output_type": "stream",
     "text": [
      "Equilateral\n"
     ]
    }
   ],
   "source": [
    "a=int(input(\"Enter first side\"))\n",
    "b=int(input(\"Enter second side\"))\n",
    "c=int(input(\"Enter third side\"))\n",
    "max=0\n",
    "if(a==b and b==c):\n",
    "    print(\"Equilateral\")\n",
    "elif(a!=b and b!=c and a!=c):\n",
    "    if(a>b):\n",
    "        if(a>c):\n",
    "            max=a\n",
    "        else:\n",
    "           max=c\n",
    "    else:\n",
    "        if(b>c):\n",
    "            max=b\n",
    "        else:\n",
    "            max=c\n",
    "    if(max==a):\n",
    "        if(a**2==b**2+c**2):\n",
    "            print(\"Right angled triangle\")\n",
    "        else:\n",
    "            print(\"Scalene\")\n",
    "    if(max==b):\n",
    "        if(b**2==a**2+c**2):\n",
    "            print(\"Right angled triangle\")\n",
    "        else:\n",
    "            print(\"Scalene\")\n",
    "    if(max==c):\n",
    "        if(c**2==b**2+a**2):\n",
    "            print(\"Right angled triangle\")\n",
    "        else:\n",
    "            print(\"Scalene\")\n",
    "else:\n",
    "    print(\"Isosceles\")"
   ]
  },
  {
   "cell_type": "markdown",
   "metadata": {},
   "source": [
    "### 10) WAP to find the second largest number among three user input numbers."
   ]
  },
  {
   "cell_type": "code",
   "execution_count": 38,
   "metadata": {},
   "outputs": [
    {
     "name": "stdin",
     "output_type": "stream",
     "text": [
      "Enter first number 50\n",
      "Enter second number 35\n",
      "Enter third number 25\n"
     ]
    },
    {
     "name": "stdout",
     "output_type": "stream",
     "text": [
      "35 is second largest\n"
     ]
    }
   ],
   "source": [
    "a=int(input(\"Enter first number\"))\n",
    "b=int(input(\"Enter second number\"))\n",
    "c=int(input(\"Enter third number\"))\n",
    "if(a>b):\n",
    "    if(a>c):\n",
    "        if(b>c):\n",
    "            print(b,\"is second largest\")\n",
    "        else:\n",
    "            print(c,\"is second largest\")\n",
    "    else:\n",
    "        print(a,\"is second largest\")\n",
    "else:\n",
    "    if(b>c):\n",
    "        if(c>a):\n",
    "            print(c,\"is second largest\")\n",
    "        else:\n",
    "            print(a,\"is second largest\")\n",
    "    else:\n",
    "        print(b,\"is second largest\")"
   ]
  },
  {
   "cell_type": "markdown",
   "metadata": {},
   "source": [
    "### 11) WAP to calculate electricity bill based on following criteria. Which takes the unit from the user.\n",
    "a. First 1 to 50 units – Rs. 2.60/unit</br>\n",
    "b. Next 50 to 100 units – Rs. 3.25/unit</br>\n",
    "c. Next 100 to 200 units – Rs. 5.26/unit</br>\n",
    "d. above 200 units – Rs. 8.45/unit"
   ]
  },
  {
   "cell_type": "code",
   "execution_count": 1,
   "metadata": {},
   "outputs": [
    {
     "name": "stdin",
     "output_type": "stream",
     "text": [
      "Enter unit 250\n"
     ]
    },
    {
     "name": "stdout",
     "output_type": "stream",
     "text": [
      "1241.0\n"
     ]
    }
   ],
   "source": [
    "unit=int(input(\"Enter unit\"))\n",
    "bill=0\n",
    "if(unit>=1 and  unit<=50):\n",
    "    bill=unit*2.60\n",
    "    print(bill)\n",
    "elif(unit>50 and unit<=100):\n",
    "    bill=(50*2.60)+((unit-50)*3.25)\n",
    "    print(bill)\n",
    "elif(unit>100 and unit<=200):\n",
    "    bill=(50*2.60)+(50*3.25)+((unit-100)*5.26)\n",
    "    print(bill)\n",
    "else:\n",
    "    bill=(50*2.60)+(50*3.25)+(100*5.26)+((unit-200)*8.45)\n",
    "    print(bill)\n",
    "    "
   ]
  },
  {
   "cell_type": "code",
   "execution_count": null,
   "metadata": {},
   "outputs": [],
   "source": []
  }
 ],
 "metadata": {
  "kernelspec": {
   "display_name": "Python 3 (ipykernel)",
   "language": "python",
   "name": "python3"
  },
  "language_info": {
   "codemirror_mode": {
    "name": "ipython",
    "version": 3
   },
   "file_extension": ".py",
   "mimetype": "text/x-python",
   "name": "python",
   "nbconvert_exporter": "python",
   "pygments_lexer": "ipython3",
   "version": "3.12.7"
  }
 },
 "nbformat": 4,
 "nbformat_minor": 4
}
